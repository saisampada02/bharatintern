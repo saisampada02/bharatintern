{
 "cells": [
  {
   "cell_type": "code",
   "execution_count": 1,
   "id": "0ce32c79",
   "metadata": {},
   "outputs": [
    {
     "name": "stdout",
     "output_type": "stream",
     "text": [
      "Probability of ('class', 'based'): 0.1111111111111111\n",
      "Probability of ('sample', 'example'): 0.1111111111111111\n"
     ]
    }
   ],
   "source": [
    "from collections import defaultdict\n",
    "import re\n",
    "\n",
    "class NgramModel:\n",
    "    def __init__(self, n):\n",
    "        self.n = n\n",
    "        self.ngrams = defaultdict(int)\n",
    "        self.total_count = 0\n",
    "\n",
    "    def train(self, text):\n",
    "        words = re.findall(r'\\w+', text.lower())\n",
    "        for i in range(len(words) - self.n + 1):\n",
    "            ngram = tuple(words[i:i + self.n])\n",
    "            self.ngrams[ngram] += 1\n",
    "            self.total_count += 1\n",
    "\n",
    "    def prob(self, ngram):\n",
    "        return self.ngrams[ngram] / self.total_count if self.total_count > 0 else 0\n",
    "\n",
    "text = \"this is a sample example for a class based ngram\"\n",
    "n = 2\n",
    "model = NgramModel(n)\n",
    "model.train(text)\n",
    "\n",
    "# Define n-grams for probability calculation\n",
    "class_based = ('class', 'based')\n",
    "simple_example = ('sample', 'example')\n",
    "\n",
    "print(\"Probability of ('class', 'based'):\", model.prob(class_based))\n",
    "print(\"Probability of ('sample', 'example'):\", model.prob(simple_example))\n"
   ]
  },
  {
   "cell_type": "code",
   "execution_count": 2,
   "id": "d23ff4e6",
   "metadata": {},
   "outputs": [
    {
     "name": "stderr",
     "output_type": "stream",
     "text": [
      "[nltk_data] Downloading package punkt to\n",
      "[nltk_data]     C:\\Users\\SAMPADA\\AppData\\Roaming\\nltk_data...\n",
      "[nltk_data]   Package punkt is already up-to-date!\n",
      "[nltk_data] Downloading package averaged_perceptron_tagger to\n",
      "[nltk_data]     C:\\Users\\SAMPADA\\AppData\\Roaming\\nltk_data...\n",
      "[nltk_data]   Package averaged_perceptron_tagger is already up-to-\n",
      "[nltk_data]       date!\n"
     ]
    },
    {
     "name": "stdout",
     "output_type": "stream",
     "text": [
      "(S\n",
      "  one/CD\n",
      "  (NP cat/NN)\n",
      "  chased/VBD\n",
      "  (NP a/DT mouse/NN)\n",
      "  in/IN\n",
      "  (NP the/DT garden/NN))\n"
     ]
    }
   ],
   "source": [
    "import nltk\n",
    "\n",
    "# Ensure you have downloaded the necessary NLTK data files\n",
    "nltk.download('punkt')\n",
    "nltk.download('averaged_perceptron_tagger')\n",
    "\n",
    "# Sentence to be processed\n",
    "sent = \"one cat chased a mouse in the garden\"\n",
    "\n",
    "# Tokenize the sentence\n",
    "tokens = nltk.word_tokenize(sent)\n",
    "\n",
    "# POS tagging the tokens\n",
    "tagged = nltk.pos_tag(tokens)\n",
    "\n",
    "# Define the grammar for chunking\n",
    "pattern = 'NP: {<DT>?<NN>*<NN>}'\n",
    "\n",
    "# Create a chunk parser with the specified pattern\n",
    "chunk_parser = nltk.RegexpParser(pattern)\n",
    "\n",
    "# Apply the chunk parser to the tagged tokens\n",
    "chunk_sentence = chunk_parser.parse(tagged)\n",
    "\n",
    "# Print the chunked sentence\n",
    "print(chunk_sentence)\n",
    "\n",
    "# Draw the chunk tree\n",
    "chunk_sentence.draw()\n"
   ]
  },
  {
   "cell_type": "code",
   "execution_count": 3,
   "id": "e42dfe78",
   "metadata": {},
   "outputs": [
    {
     "name": "stdout",
     "output_type": "stream",
     "text": [
      "[('Sukanya', 'NNP'), (',', ','), ('Raj', 'NNP'), ('Neha', 'NNP'), ('good', 'JJ'), ('friendsSukanya', 'NN'), ('getting', 'VBG'), ('married', 'VBD'), ('next', 'JJ'), ('yearMarraige', 'NN'), ('big', 'JJ'), ('step', 'NN'), ('one', 'CD'), (\"'s\", 'POS'), ('lifeIt', 'NN'), ('exciting', 'VBG'), ('frighteningBut', 'JJ'), ('friendship', 'NN'), ('sacred', 'VBD'), ('bonf', 'JJ'), ('peopleIt', 'NN'), ('special', 'JJ'), ('kind', 'NN'), ('clone', 'NN'), ('usMany', 'NN'), ('must', 'MD'), ('tried', 'VB'), ('seaching', 'VBG'), ('friendBut', 'JJ'), ('never', 'RB'), ('found', 'VBD'), ('right', 'RB'), ('one', 'CD')]\n"
     ]
    }
   ],
   "source": [
    "import nltk\n",
    "from nltk.corpus import stopwords\n",
    "from nltk.tokenize import word_tokenize,sent_tokenize\n",
    "stop_words=set(stopwords.words(\"english\"))\n",
    "text=\"Sukanya, Raj and Neha are my good friends\"\\\n",
    "\"Sukanya is getting married next year\"\\\n",
    "\"Marraige is a big step in one's life\"\\\n",
    "\"It is both exciting and frightening\"\\\n",
    "\"But friendship is a sacred bonf between people\"\\\n",
    "\"It is a special kind of clone between us\"\\\n",
    "\"Many of you must have tried seaching for a friend\"\\\n",
    "\"But never found the right one\"\n",
    "\n",
    "tokenized=sent_tokenize(text)\n",
    "for i in tokenized:\n",
    "    wordsList=nltk.word_tokenize(i)\n",
    "    wordsList=[w for w in wordsList if not w in stop_words]\n",
    "    tagged=nltk.pos_tag(wordsList)\n",
    "print(tagged)\n"
   ]
  },
  {
   "cell_type": "code",
   "execution_count": 4,
   "id": "23a47c72",
   "metadata": {},
   "outputs": [
    {
     "name": "stdout",
     "output_type": "stream",
     "text": [
      "jumps -> jump\n",
      "jumping -> jump\n",
      "played -> play\n",
      "playing -> play\n"
     ]
    }
   ],
   "source": [
    "add_delete_table={\n",
    "    \"s\": \"\",\n",
    "    \"es\": \"\",\n",
    "    \"ed\": \"\",\n",
    "    \"ing\" : \"\",\n",
    "}\n",
    "def stem_word(word):\n",
    "    for suffix,replacement in add_delete_table.items():\n",
    "        if word.endswith(suffix):\n",
    "            return word[:-len(suffix)] + replacement\n",
    "    return word\n",
    "\n",
    "words=[\"jumps\",\"jumping\",\"played\",\"playing\"]\n",
    "\n",
    "stemmed_words = [stem_word(word) for word in words]\n",
    "\n",
    "for word, stemmed in zip(words,stemmed_words):\n",
    "    print(f\"{word} -> {stemmed}\")"
   ]
  },
  {
   "cell_type": "code",
   "execution_count": null,
   "id": "767f42fd",
   "metadata": {},
   "outputs": [],
   "source": []
  }
 ],
 "metadata": {
  "kernelspec": {
   "display_name": "Python 3 (ipykernel)",
   "language": "python",
   "name": "python3"
  },
  "language_info": {
   "codemirror_mode": {
    "name": "ipython",
    "version": 3
   },
   "file_extension": ".py",
   "mimetype": "text/x-python",
   "name": "python",
   "nbconvert_exporter": "python",
   "pygments_lexer": "ipython3",
   "version": "3.11.5"
  }
 },
 "nbformat": 4,
 "nbformat_minor": 5
}
